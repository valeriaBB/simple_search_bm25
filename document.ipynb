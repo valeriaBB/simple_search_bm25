{
  "nbformat": 4,
  "nbformat_minor": 0,
  "metadata": {
    "colab": {
      "provenance": [],
      "authorship_tag": "ABX9TyOOYjmZThmihcHbLIY8RzSN",
      "include_colab_link": true
    },
    "kernelspec": {
      "name": "python3",
      "display_name": "Python 3"
    },
    "language_info": {
      "name": "python"
    }
  },
  "cells": [
    {
      "cell_type": "markdown",
      "metadata": {
        "id": "view-in-github",
        "colab_type": "text"
      },
      "source": [
        "<a href=\"https://colab.research.google.com/github/valeriaBB/simple_search_bm25/blob/main/document.ipynb\" target=\"_parent\"><img src=\"https://colab.research.google.com/assets/colab-badge.svg\" alt=\"Open In Colab\"/></a>"
      ]
    },
    {
      "cell_type": "code",
      "execution_count": null,
      "metadata": {
        "id": "p8OWIj7_LzpU"
      },
      "outputs": [],
      "source": [
        "!wget http://ir.dcs.gla.ac.uk/resources/test_collections/cisi/cisi.tar.gz"
      ]
    },
    {
      "cell_type": "code",
      "source": [
        "!tar xvzf cisi.tar.gz"
      ],
      "metadata": {
        "id": "SmWW24xUMXu9"
      },
      "execution_count": null,
      "outputs": []
    },
    {
      "cell_type": "code",
      "source": [
        "import os\n",
        "\n",
        "def getAllFilesCisi ():\n",
        "  for dirname, _, filenames in os.walk('/content/resource'):\n",
        "      for filename in filenames:\n",
        "          print(os.path.join(dirname, filename))\n",
        "          with open(os.path.join(dirname, filename)) as f:\n",
        "              line_count = 0\n",
        "              id_set = set()\n",
        "              for l in f.readlines():\n",
        "                  line_count += 1\n",
        "                  if filename == \"CISI.REL\":\n",
        "                      id_set.add(l.lstrip(\" \").split(\" \")[0])\n",
        "                  elif l.startswith(\".I \"):\n",
        "                      id_set.add(l.split(\" \")[1].strip())\n",
        "              print(f\"{filename} : {len(id_set)} items, over {line_count} lines.\")"
      ],
      "metadata": {
        "id": "A9h3ch7yNFms"
      },
      "execution_count": null,
      "outputs": []
    },
    {
      "cell_type": "code",
      "source": [
        "def readCisiAll():\n",
        "  with open('/content/resource/CISI.ALL') as f:\n",
        "    lines = \"\"\n",
        "    for l in f.readlines():\n",
        "        lines += \"\\n\" + l.strip() if l.startswith(\".\") else \" \" + l.strip()\n",
        "    lines = lines.lstrip(\"\\n\").split(\"\\n\")\n",
        "  return lines"
      ],
      "metadata": {
        "id": "lL1nvSTMPa39"
      },
      "execution_count": 33,
      "outputs": []
    },
    {
      "cell_type": "code",
      "source": [
        "def getDocuments(lines):\n",
        "  doc_set = {}\n",
        "  doc_id = \"\"\n",
        "  doc_text = \"\"\n",
        "  for l in lines:\n",
        "    if l.startswith(\".I\"):\n",
        "        doc_id = l.split(\" \")[1].strip()\n",
        "    elif l.startswith(\".X\"):\n",
        "        doc_set[doc_id] = doc_text.lstrip(\" \")\n",
        "        doc_id = \"\"\n",
        "        doc_text = \"\"\n",
        "    else:\n",
        "        doc_text += l.strip()[3:] + \" \"\n",
        "\n",
        "  return doc_set\n"
      ],
      "metadata": {
        "id": "wTGgYuEAPvm7"
      },
      "execution_count": 34,
      "outputs": []
    },
    {
      "cell_type": "code",
      "source": [
        "def getQueries():\n",
        "   with open('/content/resource/CISI.QRY') as f:\n",
        "     lines = \"\"\n",
        "     for l in f.readlines():\n",
        "      lines += \"\\n\" + l.strip() if l.startswith(\".\") else \" \" + l.strip()\n",
        "      lines = lines.lstrip(\"\\n\").split(\"\\n\")\n",
        "    \n",
        "   qry_set = {}\n",
        "   qry_id = \"\"\n",
        "   for l in lines:\n",
        "     if l.startswith(\".I\"):\n",
        "       qry_id = l.split(\" \")[1].strip()\n",
        "     elif l.startswith(\".W\"):\n",
        "       qry_set[qry_id] = l.strip()[3:]\n",
        "       qry_id = \"\"\n",
        "   \n",
        "   return qry_set"
      ],
      "metadata": {
        "id": "-JkUuEIVQl4y"
      },
      "execution_count": 35,
      "outputs": []
    }
  ]
}